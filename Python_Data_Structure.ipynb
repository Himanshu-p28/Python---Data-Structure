{
  "nbformat": 4,
  "nbformat_minor": 0,
  "metadata": {
    "colab": {
      "provenance": []
    },
    "kernelspec": {
      "name": "python3",
      "display_name": "Python 3"
    },
    "language_info": {
      "name": "python"
    }
  },
  "cells": [
    {
      "cell_type": "markdown",
      "source": [
        "**Q1.Discuss string slicing and provide examples.**\n",
        "\n",
        "**Sol.**Extracting some part of a string is called string slicing.String slicing allows us to extract parts of a string using a specified range of indices.\n",
        "\n",
        "*Syntax*\n",
        "\n",
        "```\n",
        "var[start:stop:step]\n",
        "```\n",
        "where,\n",
        "\n",
        "*start:* The starting index of the slice (inclusive).\n",
        "\n",
        "*stop:* The ending index of the slice (exclusive).\n",
        "\n",
        "*step:* The step size or stride between indices.\n",
        "\n"
      ],
      "metadata": {
        "id": "h0YUIgc4Hyns"
      }
    },
    {
      "cell_type": "code",
      "source": [
        "#String slicing with positive index.\n",
        "var=\"This is example of string slicing\"\n",
        "print(\"var[0:6] :\",var[0:6])       #prints characters from strating till character of 5th index\n",
        "print(\"var[6:]\",var[6:])           #prints characters from 6th index till end of string\n",
        "print(\"var[:6]\",var[:6])           #prints characters from strating till character of 5th index\n",
        "print(\"var[:]\",var[:])             #prints whole string\n",
        "print(\"var[5:22:2]\",var[5:22:2])   #by default step size is 1 unit, but here its changed to 2\n"
      ],
      "metadata": {
        "colab": {
          "base_uri": "https://localhost:8080/"
        },
        "id": "SuL7kDMxQAHw",
        "outputId": "8f12e182-6a3a-41ac-b743-251fa0b42b5c"
      },
      "execution_count": null,
      "outputs": [
        {
          "output_type": "stream",
          "name": "stdout",
          "text": [
            "var[0:6] : This i\n",
            "var[6:] s example of string slicing\n",
            "var[:6] This i\n",
            "var[:] This is example of string slicing\n",
            "var[5:22:2] i xml fsr\n"
          ]
        }
      ]
    },
    {
      "cell_type": "code",
      "source": [
        "#String slicing via negative indexing\n",
        "var=\"This is example of string slicing\"\n",
        "print(\"var[-8:-1]:\",var[-8:-1])       #incase of negative indices ending index is included\n",
        "print(\"var[-8:]:\",var[-8:])\n",
        "print(\"var[:-11]:\",var[:-11])\n",
        "print(\"var[:-11:4]:\",var[:-11:4])"
      ],
      "metadata": {
        "colab": {
          "base_uri": "https://localhost:8080/"
        },
        "id": "q61e0qlVS1bj",
        "outputId": "f2eff4a7-1d24-4013-fb51-3a3350d6ebbc"
      },
      "execution_count": null,
      "outputs": [
        {
          "output_type": "stream",
          "name": "stdout",
          "text": [
            "var[-11:-1]:  slicin\n",
            "var[-11:]:  slicing\n",
            "var[:-11]: This is example of str\n",
            "var[:-11:4]: T epot\n"
          ]
        }
      ]
    },
    {
      "cell_type": "code",
      "source": [
        "#Reversing a string via negative index\n",
        "var=\"This is example of string slicing\"\n",
        "print(var[::-1])"
      ],
      "metadata": {
        "colab": {
          "base_uri": "https://localhost:8080/"
        },
        "id": "e5r5qO67VXSB",
        "outputId": "159a2e89-e06b-4516-89c4-4f5274f7c973"
      },
      "execution_count": null,
      "outputs": [
        {
          "output_type": "stream",
          "name": "stdout",
          "text": [
            "gnicils gnirts fo elpmaxe si sihT\n"
          ]
        }
      ]
    },
    {
      "cell_type": "markdown",
      "source": [
        "**Q2.Explain the key features of lists in Python.**\n",
        "\n",
        "**Sol** Lists are type of data structure that can store different datatypes in one place.It is represented by square brackets.\n",
        "*Syntax:*\n",
        "\n",
        "```\n",
        "# list_var=[]\n",
        "```\n",
        "The features of list are:\n",
        "\n",
        "*1.Stores heterogeneous data:* List can store different data types, such as integers, floats,  strings, other list, complex numbers etc.eg:\n"
      ],
      "metadata": {
        "id": "Zn6gSlVgXvxG"
      }
    },
    {
      "cell_type": "code",
      "source": [
        "list_var=[2, 3.8, \"String\", [\"a\",\"b\",4,], 4+5j]\n",
        "print(type(list_var))\n",
        "print(list_var)"
      ],
      "metadata": {
        "colab": {
          "base_uri": "https://localhost:8080/"
        },
        "id": "fGJumg5OKUO-",
        "outputId": "2ce1c9a8-640b-4cc4-efbb-a26a23e9b8df"
      },
      "execution_count": null,
      "outputs": [
        {
          "output_type": "stream",
          "name": "stdout",
          "text": [
            "<class 'list'>\n",
            "[2, 3.8, 'String', ['a', 'b', 4], (4+5j)]\n"
          ]
        }
      ]
    },
    {
      "cell_type": "markdown",
      "source": [
        "*2.Mutable:* The elements in the list can be changed after they are stored in the list.eg:"
      ],
      "metadata": {
        "id": "mTj4lSunKOWa"
      }
    },
    {
      "cell_type": "code",
      "source": [
        "#Exapmle for lists are mutable\n",
        "\n",
        "lst=[2, 3.8, \"String\", [\"a\",\"b\",4,], 4+5j]\n",
        "lst[1]=586                          #change the element at index 1 to new value\n",
        "print(lst)"
      ],
      "metadata": {
        "colab": {
          "base_uri": "https://localhost:8080/"
        },
        "id": "aS6o9hzyHnGk",
        "outputId": "017b2250-1cd8-4088-961f-60d5b8be3ebd"
      },
      "execution_count": null,
      "outputs": [
        {
          "output_type": "stream",
          "name": "stdout",
          "text": [
            "[2, 586, 'String', ['a', 'b', 4], (4+5j)]\n"
          ]
        }
      ]
    },
    {
      "cell_type": "markdown",
      "source": [
        "*3.Ordered:* Each element in list is assigned a index when they are added. The indexing starts from 0."
      ],
      "metadata": {
        "id": "moURHbnhIcCx"
      }
    },
    {
      "cell_type": "code",
      "source": [
        "#Prog to see the index of each element\n",
        "\n",
        "lst=[5+6j,8,3.5,\"Hello\"]\n",
        "print(lst.index(5+6j),lst.index(\"Hello\"))"
      ],
      "metadata": {
        "colab": {
          "base_uri": "https://localhost:8080/"
        },
        "id": "Ab2jQVhBI6HM",
        "outputId": "71ac2f75-4ea9-4cd4-ddb0-d7b0e1e93b9c"
      },
      "execution_count": null,
      "outputs": [
        {
          "output_type": "stream",
          "name": "stdout",
          "text": [
            "0 3\n"
          ]
        }
      ]
    },
    {
      "cell_type": "markdown",
      "source": [
        "*4.Dynamic Size:* Lists can grow or shrink in size as needed. We don’t need to specify the size while creating a list."
      ],
      "metadata": {
        "id": "g9LJukpjJztQ"
      }
    },
    {
      "cell_type": "code",
      "source": [
        "#Dynamic size of a List\n",
        "lst=[5+6j,8,3.5,\"Hello\"]\n",
        "print(\"Old list:\",lst)\n",
        "print(\"Old lenth of list:\",len(lst))\n",
        "\n",
        "print()\n",
        "\n",
        "lst.insert(2,\"New Element\")\n",
        "lst.append([\"new element_2\",\"new element_3\"])\n",
        "print(\"New list:\",lst)\n",
        "print(\"New lenth of list:\",len(lst))"
      ],
      "metadata": {
        "colab": {
          "base_uri": "https://localhost:8080/"
        },
        "id": "kI1sxXHTK45u",
        "outputId": "5997ca30-db11-4b61-933b-b1e76e13f3bf"
      },
      "execution_count": null,
      "outputs": [
        {
          "output_type": "stream",
          "name": "stdout",
          "text": [
            "Old list: [(5+6j), 8, 3.5, 'Hello']\n",
            "Old lenth of list: 4\n",
            "\n",
            "New list: [(5+6j), 8, 'New Element', 3.5, 'Hello', ['new element_2', 'new element_3']]\n",
            "New lenth of list: 6\n"
          ]
        }
      ]
    },
    {
      "cell_type": "markdown",
      "source": [
        "*5.Dynamic Typing:* Lists can contain items of different types, and the type of an individual item can be changed."
      ],
      "metadata": {
        "id": "awI_MySKMA9_"
      }
    },
    {
      "cell_type": "code",
      "source": [
        "#Lists dynamic typing\n",
        "\n",
        "lst=[2,5,7,8,9]\n",
        "print(\"Old List:\",lst)\n",
        "print(type(lst[1]))       #which is integer\n",
        "\n",
        "lst[1]=5+6j\n",
        "print()\n",
        "print(\"New list:\",lst)\n",
        "print(type(lst[1]))       #element of diff data type inserted thus lists supports dynamic typiing\n"
      ],
      "metadata": {
        "colab": {
          "base_uri": "https://localhost:8080/"
        },
        "id": "eApzqIO1M9y3",
        "outputId": "bd076855-ff35-404b-a590-8418c83cc56c"
      },
      "execution_count": null,
      "outputs": [
        {
          "output_type": "stream",
          "name": "stdout",
          "text": [
            "Old List: [2, 5, 7, 8, 9]\n",
            "<class 'int'>\n",
            "\n",
            "New list: [2, (5+6j), 7, 8, 9]\n",
            "<class 'complex'>\n"
          ]
        }
      ]
    },
    {
      "cell_type": "markdown",
      "source": [
        "*6.Nested Lists:* Lists can contain other lists as elements allowing to create complex data structures like multi-dimensional arrays."
      ],
      "metadata": {
        "id": "R78laZqwODnk"
      }
    },
    {
      "cell_type": "code",
      "source": [
        "#Nested lists\n",
        "\n",
        "lst=[[5,6,7],[3,7,5],[9,1.1,10]]\n",
        "print(\"Nested list:\",lst)\n",
        "\n",
        "print(\"Excessing '1.1':\",lst[2][1])"
      ],
      "metadata": {
        "colab": {
          "base_uri": "https://localhost:8080/"
        },
        "id": "Seh7bQ96OrGJ",
        "outputId": "a3de396b-df71-49ce-d950-fde9909aaf93"
      },
      "execution_count": null,
      "outputs": [
        {
          "output_type": "stream",
          "name": "stdout",
          "text": [
            "Nested list: [[5, 6, 7], [3, 7, 5], [9, 1.1, 10]]\n",
            "Excessing '1.1': 1.1\n"
          ]
        }
      ]
    },
    {
      "cell_type": "markdown",
      "source": [
        "*7.Slicing:* Lists allow user to access some part of the data stored, this is called slicing of list.\n",
        "\n",
        "Syntax:\n",
        "\n",
        "\n",
        "```\n",
        "list_var=[start:stop:step]\n",
        "\n",
        "start: index of where to start slicing(inclusive)\n",
        "stop: index of where to stop slicing(exclusive)\n",
        "step: how steps to jump in between indexes (exclusive 3 means jump 2 steps)\n",
        "```\n",
        "\n"
      ],
      "metadata": {
        "id": "2sKOVdDQP3oJ"
      }
    },
    {
      "cell_type": "code",
      "source": [
        "lst=[\"string_1\",25,\"string_2\",99,\"string_3\",20,5,887,98,100,3,15]\n",
        "\n",
        "print(lst[3:9:3])\n",
        "print(lst[3::3])"
      ],
      "metadata": {
        "colab": {
          "base_uri": "https://localhost:8080/"
        },
        "id": "sFdO43GLROY-",
        "outputId": "ca6b5bf8-ae97-485a-d0e4-bca0c4d96c88"
      },
      "execution_count": null,
      "outputs": [
        {
          "output_type": "stream",
          "name": "stdout",
          "text": [
            "[99, 5]\n",
            "[99, 5, 100]\n"
          ]
        }
      ]
    },
    {
      "cell_type": "markdown",
      "source": [
        "**Q3.Describe how to access, modify, and delete elements in a list with examples.**\n",
        "\n",
        "**Sol.** Lists are mutable thus elements can be accessed, modified and deleted as per users will.\n",
        "\n",
        "1. For **accessing** elements **index** of the elements are used.Index of the elements can also be negative.For example"
      ],
      "metadata": {
        "id": "snIjqBiBX_w5"
      }
    },
    {
      "cell_type": "code",
      "source": [
        "#Accessing elements in list\n",
        "\n",
        "lst=[0, 5, 3, 7, 9, 3.6, 8.4]\n",
        "\n",
        "positive_index=lst[1]\n",
        "negative_index=lst[-1]\n",
        "slicing_list=lst[2:6]\n",
        "\n",
        "print(\"Accessing elements using positive index:\",positive_index)\n",
        "print(\"Accessing elements using negative index:\",negative_index)\n",
        "print(\"Accessing elements using Slicing of list:\",slicing_list)"
      ],
      "metadata": {
        "colab": {
          "base_uri": "https://localhost:8080/"
        },
        "id": "A34vzHotTNvc",
        "outputId": "8ff77e0d-4c45-47c1-bb0c-d47e6d3278da"
      },
      "execution_count": null,
      "outputs": [
        {
          "output_type": "stream",
          "name": "stdout",
          "text": [
            "Accessing elements using positive index: 5\n",
            "Accessing elements using negative index: 8.4\n",
            "Accessing elements using Slicing of list: [3, 7, 9, 3.6]\n"
          ]
        }
      ]
    },
    {
      "cell_type": "markdown",
      "source": [
        "2.For **modification** in the list functions like **insert()**, **append()** and **extend()** are used.\n",
        "\n",
        "*2.1 insert()* function is used to insert the element at the specified index.\n",
        "\n",
        "*2.2 append()* and *extend()* are used to insert the elements at the end of the list.Extend function helps to insert multiple elements at a time. For example"
      ],
      "metadata": {
        "id": "6ogVIqVkUz1p"
      }
    },
    {
      "cell_type": "code",
      "source": [
        "#Modifying elements in the list using insert function\n",
        "\n",
        "lst=[0, 5, 3, 7, 9, 3.6, 8.4]\n",
        "print(\"Old_list:\",lst)\n",
        "i=int(input(\"Enter index to insert new element:\"))\n",
        "ele=input(\"Enter element:\")\n",
        "lst.insert(i,ele)\n",
        "print(f\"element inserted at index {i}\")\n",
        "print(\"New list:\",lst)\n"
      ],
      "metadata": {
        "colab": {
          "base_uri": "https://localhost:8080/"
        },
        "id": "710I4-uqWFga",
        "outputId": "b1d2bef6-f1be-4cfb-e8cb-80ebc70f6b45"
      },
      "execution_count": null,
      "outputs": [
        {
          "output_type": "stream",
          "name": "stdout",
          "text": [
            "Old_list: [0, 5, 3, 7, 9, 3.6, 8.4]\n",
            "\n",
            "Enter index to insert new element:3\n",
            "Enter element:Hello\n",
            "\n",
            "element inserted at index 3\n",
            "New list: [0, 5, 3, 'Hello', 7, 9, 3.6, 8.4]\n"
          ]
        }
      ]
    },
    {
      "cell_type": "code",
      "source": [
        "#Modifying elements in the list using append function\n",
        "\n",
        "lst=[0, 5, 3, 7, 9, 3.6, 8.4]\n",
        "\n",
        "print(\"Old_list:\",lst)\n",
        "\n",
        "ele=input(\"Enter element:\")\n",
        "\n",
        "lst.append(ele)\n",
        "\n",
        "print(\"New list:\",lst)"
      ],
      "metadata": {
        "colab": {
          "base_uri": "https://localhost:8080/"
        },
        "id": "BVbUJhToX_uh",
        "outputId": "40e4ceff-32ee-40d7-d17c-7b68c4a6c2a9"
      },
      "execution_count": null,
      "outputs": [
        {
          "output_type": "stream",
          "name": "stdout",
          "text": [
            "Old_list: [0, 5, 3, 7, 9, 3.6, 8.4]\n",
            "Enter element:hello\n",
            "New list: [0, 5, 3, 7, 9, 3.6, 8.4, 'hello']\n"
          ]
        }
      ]
    },
    {
      "cell_type": "code",
      "source": [
        "#Modifying elements in the list using extend function\n",
        "\n",
        "lst=[0, 5, 3, 7, 9, 3.6, 8.4]\n",
        "\n",
        "print(\"Old_list:\",lst)\n",
        "\n",
        "lst.extend(['element_1','element_2','element_3'])\n",
        "\n",
        "print(\"New list:\",lst)"
      ],
      "metadata": {
        "colab": {
          "base_uri": "https://localhost:8080/"
        },
        "id": "XqgKLrFcYW1M",
        "outputId": "5ae2cec1-a382-4116-80cb-a383b9ae8e5d"
      },
      "execution_count": null,
      "outputs": [
        {
          "output_type": "stream",
          "name": "stdout",
          "text": [
            "Old_list: [0, 5, 3, 7, 9, 3.6, 8.4]\n",
            "New list: [0, 5, 3, 7, 9, 3.6, 8.4, 'element_1', 'element_2', 'element_3']\n"
          ]
        }
      ]
    },
    {
      "cell_type": "markdown",
      "source": [
        "3.For **Deletion** in the list functions like **remove()**, **pop()**,**del()** and **clear()** are used.\n",
        "\n",
        "*3.1 remove()* function is used to remove the first occurance of the element in the list.\n",
        "\n",
        "*3.2 pop()* function is used to remove the element at a specified index. If no index is given it will remove the last element.\n",
        "\n",
        "*3.3 del()* function is used to remove the element at a specified index. If we give the list name it will erase the list from the memory.\n",
        "\n",
        "*3.4 clear()* function is used to remove all elements from the list.This makes the list empty.\n"
      ],
      "metadata": {
        "id": "B82829mNZAUY"
      }
    },
    {
      "cell_type": "code",
      "source": [
        "#Deletion of elements using remove function\n",
        "\n",
        "lst=[25,28,\"remove\",\"pop\", 55, \"Hi\"]\n",
        "print(\"old list:\",lst)\n",
        "\n",
        "lst.remove(\"remove\")          #removes the value 'remove'\n",
        "print(\"new list:\",lst)"
      ],
      "metadata": {
        "colab": {
          "base_uri": "https://localhost:8080/"
        },
        "id": "BBTgySs6a6pQ",
        "outputId": "4e007dfe-c200-4080-b91a-18fb542f968b"
      },
      "execution_count": null,
      "outputs": [
        {
          "output_type": "stream",
          "name": "stdout",
          "text": [
            "old list: [25, 28, 'remove', 'pop', 55, 'Hi']\n",
            "new list: [25, 28, 'pop', 55, 'Hi']\n"
          ]
        }
      ]
    },
    {
      "cell_type": "code",
      "source": [
        "#Deletion of elements using pop function\n",
        "\n",
        "lst=[25,28,\"remove\",\"pop\", 55, \"Hi\"]\n",
        "print(\"old list:\",lst)\n",
        "\n",
        "lst.pop(3)          #removes the value at index 3\n",
        "lst.pop()           #removes the value at the last of list\n",
        "\n",
        "print(\"new list:\",lst)"
      ],
      "metadata": {
        "colab": {
          "base_uri": "https://localhost:8080/"
        },
        "id": "x697C4rOdBnD",
        "outputId": "8b977236-bcdf-430c-94fe-9c2bdcf9a0bd"
      },
      "execution_count": null,
      "outputs": [
        {
          "output_type": "stream",
          "name": "stdout",
          "text": [
            "old list: [25, 28, 'remove', 'pop', 55, 'Hi']\n",
            "new list: [25, 28, 'remove', 55]\n"
          ]
        }
      ]
    },
    {
      "cell_type": "code",
      "source": [
        "#Deletion of elements using del function\n",
        "\n",
        "lst=[25,28,\"remove\",\"pop\", 55, \"Hi\"]\n",
        "lst_2=[5, 3, 12 ,50]\n",
        "\n",
        "print(\"old list:\",lst)\n",
        "\n",
        "del lst[2]          #removes the value at index 2 in the list\n",
        "print(\"new list:\",lst)\n",
        "\n",
        "del lst_2             # will delete whole list and on printing lst_2 it will give error\n",
        "#print(lst_2)"
      ],
      "metadata": {
        "colab": {
          "base_uri": "https://localhost:8080/"
        },
        "id": "xlcICyFRddNJ",
        "outputId": "c9bdfba2-2329-47e0-a87d-9b42f21b73fc"
      },
      "execution_count": null,
      "outputs": [
        {
          "output_type": "stream",
          "name": "stdout",
          "text": [
            "old list: [25, 28, 'remove', 'pop', 55, 'Hi']\n",
            "new list: [25, 28, 'pop', 55, 'Hi']\n"
          ]
        }
      ]
    },
    {
      "cell_type": "markdown",
      "source": [
        "**Q4 Compare and contrast tuples and lists with examples**\n",
        "\n",
        "**Sol.**\n",
        "1. **Lists** are mutable means elements in lists can be changed.\n",
        "\n",
        " **tuples** are immutable ie cannot be changed.\n"
      ],
      "metadata": {
        "id": "FjXeg7wEYGkq"
      }
    },
    {
      "cell_type": "code",
      "source": [
        "_list=[1,2,3,4,5,6]\n",
        "_tuple=(11,12,13,14,15,16)\n",
        "\n",
        "_list[2]=100         # changing value of list at index 2\n",
        "print(_list)\n",
        "\n",
        "_tuple[2]=20         #trying to change value of tuple at index 2\n",
        "print(_tuple)        #will give ERROR"
      ],
      "metadata": {
        "colab": {
          "base_uri": "https://localhost:8080/",
          "height": 211
        },
        "id": "vO8NacJEqiWV",
        "outputId": "5cac3aba-18bf-4506-f845-28bdc8fddcde"
      },
      "execution_count": null,
      "outputs": [
        {
          "output_type": "stream",
          "name": "stdout",
          "text": [
            "[1, 2, 100, 4, 5, 6]\n"
          ]
        },
        {
          "output_type": "error",
          "ename": "TypeError",
          "evalue": "'tuple' object does not support item assignment",
          "traceback": [
            "\u001b[0;31m---------------------------------------------------------------------------\u001b[0m",
            "\u001b[0;31mTypeError\u001b[0m                                 Traceback (most recent call last)",
            "\u001b[0;32m<ipython-input-70-615f49323160>\u001b[0m in \u001b[0;36m<cell line: 7>\u001b[0;34m()\u001b[0m\n\u001b[1;32m      5\u001b[0m \u001b[0mprint\u001b[0m\u001b[0;34m(\u001b[0m\u001b[0m_list\u001b[0m\u001b[0;34m)\u001b[0m\u001b[0;34m\u001b[0m\u001b[0;34m\u001b[0m\u001b[0m\n\u001b[1;32m      6\u001b[0m \u001b[0;34m\u001b[0m\u001b[0m\n\u001b[0;32m----> 7\u001b[0;31m \u001b[0m_tuple\u001b[0m\u001b[0;34m[\u001b[0m\u001b[0;36m2\u001b[0m\u001b[0;34m]\u001b[0m\u001b[0;34m=\u001b[0m\u001b[0;36m20\u001b[0m         \u001b[0;31m#trying to change value of tuple at index 2\u001b[0m\u001b[0;34m\u001b[0m\u001b[0;34m\u001b[0m\u001b[0m\n\u001b[0m\u001b[1;32m      8\u001b[0m \u001b[0mprint\u001b[0m\u001b[0;34m(\u001b[0m\u001b[0m_tuple\u001b[0m\u001b[0;34m)\u001b[0m        \u001b[0;31m#will give ERROR\u001b[0m\u001b[0;34m\u001b[0m\u001b[0;34m\u001b[0m\u001b[0m\n",
            "\u001b[0;31mTypeError\u001b[0m: 'tuple' object does not support item assignment"
          ]
        }
      ]
    },
    {
      "cell_type": "markdown",
      "source": [
        "2. **Lists** are slow because it supports dynamic resizing.\n",
        "    \n",
        "  **Tuples** are generally faster then list due to fixed sizing."
      ],
      "metadata": {
        "id": "OZx_O-tVrdPW"
      }
    },
    {
      "cell_type": "markdown",
      "source": [
        "3. **Lists** The lists are allocated in two blocks, thus they consume more memory.\n",
        "    \n",
        "    **Tuples** consume less memory as they are stored in a single memory block."
      ],
      "metadata": {
        "id": "Gzj2hBtEr4oY"
      }
    },
    {
      "cell_type": "code",
      "source": [
        "import sys, platform\n",
        "list_1=[\"Hi\",\"this\",\"is\",\"code\"]\n",
        "tuple_1=(\"Hi\",\"this\",\"is\",\"code\")\n",
        "print(\"memory size of list:\",sys.getsizeof(list_1))\n",
        "print(\"memory size of tuple:\",sys.getsizeof(tuple_1))"
      ],
      "metadata": {
        "colab": {
          "base_uri": "https://localhost:8080/"
        },
        "id": "WCRSJZmMs3K4",
        "outputId": "7a01a531-0e5e-4b0e-9716-546794ebc3f1"
      },
      "execution_count": null,
      "outputs": [
        {
          "output_type": "stream",
          "name": "stdout",
          "text": [
            "memory size of list: 88\n",
            "memory size of tuple: 72\n"
          ]
        }
      ]
    },
    {
      "cell_type": "markdown",
      "source": [
        "4. **Lists** are suitable for scenarios where you need a flexible, mutable collection of items.\n",
        "   \n",
        "   **Tuples** are suitable for fixed, immutable collections where performance and data integrity are important\n",
        "5.**Lists** The implication of iterations is time-consuming.\n",
        "\n",
        "  **Tuples** The implication of iterations is comparatively Faster\n"
      ],
      "metadata": {
        "id": "2BWHHfUlvKUx"
      }
    },
    {
      "cell_type": "code",
      "source": [
        "#iteration time\n",
        "import sys, platform\n",
        "import time\n",
        "\n",
        "l=list(range(1000001))\n",
        "t=tuple(range(1000001))\n",
        "\n",
        "start = time.time_ns()\n",
        "for i in range(len(t)):\n",
        "    a = t[i]\n",
        "end = time.time_ns()\n",
        "print(\"Total lookup time for Tuple: \", end - start)\n",
        "\n",
        "start = time.time_ns()\n",
        "for i in range(len(l)):\n",
        "    a = l[i]\n",
        "end = time.time_ns()\n",
        "print(\"Total lookup time for LIST:  \", end - start)"
      ],
      "metadata": {
        "colab": {
          "base_uri": "https://localhost:8080/"
        },
        "id": "WxYH2pHnx4DS",
        "outputId": "abf46fc7-eb6c-4326-ca60-122ed2917d23"
      },
      "execution_count": null,
      "outputs": [
        {
          "output_type": "stream",
          "name": "stdout",
          "text": [
            "Total lookup time for Tuple:  101785613\n",
            "Total lookup time for LIST:   119808817\n"
          ]
        }
      ]
    },
    {
      "cell_type": "markdown",
      "source": [
        "6. Since **lists** are mutable thus there are more functions like append(), extend(), remove(), pop(), sort(), count(), index().\n",
        "\n",
        "    **Tuples** have fewer methods compared to lists. They include count() and index(), but they lack methods for modifying their contents."
      ],
      "metadata": {
        "id": "APRQoRIuzDLQ"
      }
    },
    {
      "cell_type": "code",
      "source": [
        "list1=[1,2,3,4,4,4,4,4]\n",
        "tuples1=(50,60,70,80,60,60,60)\n",
        "\n",
        "list1.append(7)\n",
        "#tuples1.append(100)                         #tuples do not support append() as they are immutable\n",
        "\n",
        "list1.extend([6,8,9])\n",
        "#tuples1.extend(100)                           # tuples do not support extend() as they are again immutable\n",
        "\n",
        "list1.remove(2)\n",
        "#tuples1.remove(50)                           # tuples do not support remove() as they are immutable\n",
        "\n",
        "list1.pop()\n",
        "#tuples1.pop()                               # tuples do not support remove() as they are immutable\n",
        "\n",
        "list1.sort()\n",
        "#tuples1.sort()                               # tuples do not support sort()\n",
        "\n",
        "print(\"List count of 4:\",list1.count(4))\n",
        "print(\"Tuple count of 60:\",tuples1.count(60))\n",
        "\n",
        "print(\"List index of 3:\",list1.index(3))\n",
        "print(\"Tuple index of 70:\",tuples1.index(70))"
      ],
      "metadata": {
        "colab": {
          "base_uri": "https://localhost:8080/"
        },
        "id": "r5HviEDb09XE",
        "outputId": "664e3915-4b9e-4957-c8ca-5561d7b07853"
      },
      "execution_count": null,
      "outputs": [
        {
          "output_type": "stream",
          "name": "stdout",
          "text": [
            "List count of 4: 5\n",
            "Tuple count of 60: 4\n",
            "List index of 3: 1\n",
            "Tuple index of 70: 2\n"
          ]
        }
      ]
    },
    {
      "cell_type": "markdown",
      "source": [
        "**Q5.Describe the key features of sets and provide examples of their use**\n",
        "\n",
        "**Sol.**A Set is an unordered collection data type that is **iterable**, **mutable**(we can add new elements and perform operations but cannot change elements in the set) and has **no duplicate** elements.\n",
        "*Syntax*\n",
        "\n",
        "```\n",
        "# set_var={}\n",
        "```\n",
        "\n",
        "\n",
        "the key features of set are as follows:\n",
        "\n",
        "1. **No duplicates:** All the elements stored in the set are unique.If an element is repeating more then once, set will compress it to only once.eg\n"
      ],
      "metadata": {
        "id": "qoekim1yYR1-"
      }
    },
    {
      "cell_type": "code",
      "source": [
        "#Set elements are unique\n",
        "\n",
        "set1={1,1,1,5,3,69,69}\n",
        "print(set1)"
      ],
      "metadata": {
        "colab": {
          "base_uri": "https://localhost:8080/"
        },
        "id": "OIo8A9hc86jC",
        "outputId": "1f5c168b-dc7c-4e5b-c7ea-702fb64d2e21"
      },
      "execution_count": null,
      "outputs": [
        {
          "output_type": "stream",
          "name": "stdout",
          "text": [
            "{1, 5, 3, 69}\n"
          ]
        }
      ]
    },
    {
      "cell_type": "markdown",
      "source": [
        "2. **Unordered:** The elemets inside set do not have an order unlike lists and tuples. Sets do not support indexing, slicing, or other sequence-like behavior."
      ],
      "metadata": {
        "id": "R9meJGGR-5p7"
      }
    },
    {
      "cell_type": "code",
      "source": [
        "set1={5,6,2,7}\n",
        "print(set1)\n",
        "\n",
        "print(set1.index(6))     #will give error"
      ],
      "metadata": {
        "colab": {
          "base_uri": "https://localhost:8080/",
          "height": 193
        },
        "id": "95msTJNi_KTG",
        "outputId": "e62dc660-1558-468a-80e3-180947e24e9f"
      },
      "execution_count": null,
      "outputs": [
        {
          "output_type": "stream",
          "name": "stdout",
          "text": [
            "{2, 5, 6, 7}\n"
          ]
        },
        {
          "output_type": "error",
          "ename": "AttributeError",
          "evalue": "'set' object has no attribute 'index'",
          "traceback": [
            "\u001b[0;31m---------------------------------------------------------------------------\u001b[0m",
            "\u001b[0;31mAttributeError\u001b[0m                            Traceback (most recent call last)",
            "\u001b[0;32m<ipython-input-54-ba02e0776045>\u001b[0m in \u001b[0;36m<cell line: 4>\u001b[0;34m()\u001b[0m\n\u001b[1;32m      2\u001b[0m \u001b[0mprint\u001b[0m\u001b[0;34m(\u001b[0m\u001b[0mset1\u001b[0m\u001b[0;34m)\u001b[0m\u001b[0;34m\u001b[0m\u001b[0;34m\u001b[0m\u001b[0m\n\u001b[1;32m      3\u001b[0m \u001b[0;34m\u001b[0m\u001b[0m\n\u001b[0;32m----> 4\u001b[0;31m \u001b[0mprint\u001b[0m\u001b[0;34m(\u001b[0m\u001b[0mset1\u001b[0m\u001b[0;34m.\u001b[0m\u001b[0mindex\u001b[0m\u001b[0;34m(\u001b[0m\u001b[0;36m6\u001b[0m\u001b[0;34m)\u001b[0m\u001b[0;34m)\u001b[0m\u001b[0;34m\u001b[0m\u001b[0;34m\u001b[0m\u001b[0m\n\u001b[0m",
            "\u001b[0;31mAttributeError\u001b[0m: 'set' object has no attribute 'index'"
          ]
        }
      ]
    },
    {
      "cell_type": "markdown",
      "source": [
        "3. **Heterogeneous:** Python sets can store heterogeneous elements in it."
      ],
      "metadata": {
        "id": "mEZSgyZ__ecB"
      }
    },
    {
      "cell_type": "code",
      "source": [
        "set1={11,\"String\",5.3}\n",
        "print(set1)"
      ],
      "metadata": {
        "colab": {
          "base_uri": "https://localhost:8080/"
        },
        "id": "p4LqOz_l_5R8",
        "outputId": "91538294-42c0-42ec-cc5c-b0d4cef18575"
      },
      "execution_count": null,
      "outputs": [
        {
          "output_type": "stream",
          "name": "stdout",
          "text": [
            "{11, 5.3, 'String'}\n"
          ]
        }
      ]
    },
    {
      "cell_type": "markdown",
      "source": [
        "4. New elements can be added or removed but they cannot be changed once added in set.We can perform mathametical operations like union, intersection, difference, and symmetric difference.  "
      ],
      "metadata": {
        "id": "v_ppJ6-rAC-8"
      }
    },
    {
      "cell_type": "code",
      "source": [
        "#Sets elements cannot be changed\n",
        "set1={1,6,7}\n",
        "set1[0]=100             #error as elements cannot be changed"
      ],
      "metadata": {
        "colab": {
          "base_uri": "https://localhost:8080/",
          "height": 176
        },
        "id": "t4Yo31-cBfB3",
        "outputId": "1b751b19-2330-4f35-eef3-045d55ab3c2d"
      },
      "execution_count": null,
      "outputs": [
        {
          "output_type": "error",
          "ename": "TypeError",
          "evalue": "'set' object does not support item assignment",
          "traceback": [
            "\u001b[0;31m---------------------------------------------------------------------------\u001b[0m",
            "\u001b[0;31mTypeError\u001b[0m                                 Traceback (most recent call last)",
            "\u001b[0;32m<ipython-input-55-48cd339144d0>\u001b[0m in \u001b[0;36m<cell line: 3>\u001b[0;34m()\u001b[0m\n\u001b[1;32m      1\u001b[0m \u001b[0;31m#Sets elements cannot be changed\u001b[0m\u001b[0;34m\u001b[0m\u001b[0;34m\u001b[0m\u001b[0m\n\u001b[1;32m      2\u001b[0m \u001b[0mset1\u001b[0m\u001b[0;34m=\u001b[0m\u001b[0;34m{\u001b[0m\u001b[0;36m1\u001b[0m\u001b[0;34m,\u001b[0m\u001b[0;36m6\u001b[0m\u001b[0;34m,\u001b[0m\u001b[0;36m7\u001b[0m\u001b[0;34m}\u001b[0m\u001b[0;34m\u001b[0m\u001b[0;34m\u001b[0m\u001b[0m\n\u001b[0;32m----> 3\u001b[0;31m \u001b[0mset1\u001b[0m\u001b[0;34m[\u001b[0m\u001b[0;36m0\u001b[0m\u001b[0;34m]\u001b[0m\u001b[0;34m=\u001b[0m\u001b[0;36m100\u001b[0m             \u001b[0;31m#error\u001b[0m\u001b[0;34m\u001b[0m\u001b[0;34m\u001b[0m\u001b[0m\n\u001b[0m",
            "\u001b[0;31mTypeError\u001b[0m: 'set' object does not support item assignment"
          ]
        }
      ]
    },
    {
      "cell_type": "code",
      "source": [
        "#Sets operations\n",
        "set1={12,6,8,3,25,65}\n",
        "set2={\"asd\",\"qwe\",\"zxc\",\"lol\",\"Axn\"}\n",
        "\n",
        "set1.add(5)         #20 will be added to the set at any random position\n",
        "print(\"Element added:\",set1)\n",
        "\n",
        "set1.remove(12)         #12 will be removed from the set, if 12 not present in set then it will throw error\n",
        "print(\"Element removed:\",set1)\n",
        "\n",
        "set1.discard(12)            #if the element is not present in the set, \"discard\" will not throw any error unlike remove\n",
        "print(\"Element discarded:\",set1)\n",
        "\n",
        "set1.update(\"Updated\")       #update is a iterable.\n",
        "print(\"Update element in set:\",set1)\n",
        "\n",
        "set1.update([\"Updated\"])\n",
        "print(\"Update element in set as a list:\",set1)\n",
        "\n",
        "set1.update([1000])          #without list it will throw an error\n",
        "print(\"Update element in set as a list:\",set1)\n",
        "\n",
        "set2.discard(\"zxc\")         #will remove elemet from  the set\n",
        "print(\"Element discarded:\",set2)\n",
        "\n",
        "set2.pop()                 #any random value will be removed\n",
        "print(\"element poped: \",set2)\n",
        "\n",
        "set1.clear()\n",
        "print(\"Set1 cleared:\",set1)     #set will become empty\n",
        "\n",
        "x=set2.copy()\n",
        "print(\"set copied: \",x)\n",
        "\n",
        "set1={12,6,8,3,25,65,\"asd\",\"qwe\"}\n",
        "set2={\"asd\",\"qwe\",\"zxc\",\"lol\",\"Axn\",8,3}\n",
        "\n",
        "print(\"Union of set1 and set2:\",set1.union(set2))                      # set1 U set2  ,same as set1 | set2, repeting elemets will only come once\n",
        "\n",
        "print(\"intersection of set1 and set2:\",set1.intersection(set2))        # set1 intersection set2 , same as set1 & set2\n",
        "\n",
        "print(\"set1 - set2 :\",set1-set2)                                       # same as sets concept in maths common element of set1 and set2 sub from set1.\n",
        "\n",
        "\n",
        "print(\"Symmetric difference: \",set1^set2)                             # removes common element from both set and print the rest"
      ],
      "metadata": {
        "colab": {
          "base_uri": "https://localhost:8080/"
        },
        "id": "WiUvp_V1BvvC",
        "outputId": "a3b39f9e-8adf-463a-cfd8-ba31fb115c2a"
      },
      "execution_count": 5,
      "outputs": [
        {
          "output_type": "stream",
          "name": "stdout",
          "text": [
            "Element added: {65, 3, 5, 6, 8, 25, 12}\n",
            "Element removed: {65, 3, 5, 6, 8, 25}\n",
            "Update element in set: {65, 3, 'd', 5, 6, 8, 'a', 25, 'e', 'p', 't', 'U'}\n",
            "Update element in set as a list: {65, 3, 'd', 5, 6, 8, 'a', 25, 'e', 'p', 't', 'Updated', 'U'}\n",
            "Update element in set as a list: {65, 3, 'd', 5, 6, 8, 'a', 25, 'e', 'p', 't', 1000, 'Updated', 'U'}\n",
            "Element discarded: {'lol', 'asd', 'qwe', 'Axn'}\n",
            "element poped:  {'asd', 'qwe', 'Axn'}\n",
            "Set1 cleared: set()\n",
            "set copied:  {'Axn', 'asd', 'qwe'}\n",
            "Union of set1 and set2: {65, 3, 'asd', 6, 'qwe', 8, 'Axn', 12, 'zxc', 'lol', 25}\n",
            "intersection of set1 and set2: {8, 3, 'asd', 'qwe'}\n",
            "set1 - set2 : {65, 12, 6, 25}\n",
            "Symmetric difference:  {65, 6, 'Axn', 12, 'zxc', 'lol', 25}\n"
          ]
        }
      ]
    },
    {
      "cell_type": "markdown",
      "source": [
        "5. **Frozen set:** We can create a immutable version of set which when once created set cannot be changed."
      ],
      "metadata": {
        "id": "GhhD0qqOHS38"
      }
    },
    {
      "cell_type": "code",
      "source": [
        "# frozen set\n",
        "var=frozenset([5,2,14])\n",
        "print(var)\n",
        "var.add(34)                   # will give error as its a immutable version of set"
      ],
      "metadata": {
        "colab": {
          "base_uri": "https://localhost:8080/",
          "height": 193
        },
        "id": "fF33os-CIPkq",
        "outputId": "5b707637-8d66-467f-c19f-ae3253d757d5"
      },
      "execution_count": null,
      "outputs": [
        {
          "output_type": "stream",
          "name": "stdout",
          "text": [
            "frozenset({2, 5, 14})\n"
          ]
        },
        {
          "output_type": "error",
          "ename": "AttributeError",
          "evalue": "'frozenset' object has no attribute 'add'",
          "traceback": [
            "\u001b[0;31m---------------------------------------------------------------------------\u001b[0m",
            "\u001b[0;31mAttributeError\u001b[0m                            Traceback (most recent call last)",
            "\u001b[0;32m<ipython-input-71-4b808dba94fb>\u001b[0m in \u001b[0;36m<cell line: 4>\u001b[0;34m()\u001b[0m\n\u001b[1;32m      2\u001b[0m \u001b[0mvar\u001b[0m\u001b[0;34m=\u001b[0m\u001b[0mfrozenset\u001b[0m\u001b[0;34m(\u001b[0m\u001b[0;34m[\u001b[0m\u001b[0;36m5\u001b[0m\u001b[0;34m,\u001b[0m\u001b[0;36m2\u001b[0m\u001b[0;34m,\u001b[0m\u001b[0;36m14\u001b[0m\u001b[0;34m]\u001b[0m\u001b[0;34m)\u001b[0m\u001b[0;34m\u001b[0m\u001b[0;34m\u001b[0m\u001b[0m\n\u001b[1;32m      3\u001b[0m \u001b[0mprint\u001b[0m\u001b[0;34m(\u001b[0m\u001b[0mvar\u001b[0m\u001b[0;34m)\u001b[0m\u001b[0;34m\u001b[0m\u001b[0;34m\u001b[0m\u001b[0m\n\u001b[0;32m----> 4\u001b[0;31m \u001b[0mvar\u001b[0m\u001b[0;34m.\u001b[0m\u001b[0madd\u001b[0m\u001b[0;34m(\u001b[0m\u001b[0;36m34\u001b[0m\u001b[0;34m)\u001b[0m                   \u001b[0;31m# will give error as its a immutable version of set\u001b[0m\u001b[0;34m\u001b[0m\u001b[0;34m\u001b[0m\u001b[0m\n\u001b[0m",
            "\u001b[0;31mAttributeError\u001b[0m: 'frozenset' object has no attribute 'add'"
          ]
        }
      ]
    },
    {
      "cell_type": "markdown",
      "source": [
        "**Q6.Discuss the use cases of tuples and sets in Python programming**\n",
        "\n",
        "**Sol.**Tuples and sets in Python are versatile data structures, each with unique characteristics that make them suitable for specific use cases.\n",
        "\n",
        "**Use Cases for Tuples**\n",
        "1. **Immutable Data Structures:** When you need a collection of items that should not change throughout the lifetime.eg: Aadhar card number, pan card number, Parents name of a person, date of birth of a person.\n",
        "\n",
        "```\n",
        "tuple1=(\"Aadhar card number\", \"Pan card number\", \"Date of birth\")\n",
        "```\n",
        "\n",
        "2. **Dictionary Keys:** Using tuples as keys in dictionaries when you need to use compound key.**eg:** Storing values associated with coordinate pairs.\n",
        "\n",
        "\n",
        "```\n",
        "locations = {\n",
        "    (40.7128, -74.0060): \"New York\",\n",
        "    (34.0522, -118.2437): \"Los Angeles\"\n",
        "}\n",
        "\n",
        "```\n",
        "3. **Records and Data Structuring:** Storing fixed collections of related items, similar to records or rows in a database.**eg.** Representing a student record.\n",
        "\n",
        "```\n",
        "student = (\"Aman\", \"Sharma\", 17, \"Science\")\n",
        "```\n",
        "\n",
        "\n",
        "4. **Enumerating with Index:** Using tuples to handle both the index and value when iterating over a sequence.**eg:** Enumerating over a list to get both index and value.\n",
        "\n",
        "```\n",
        "fruits = [\"apple\", \"banana\", \"cherry\"]\n",
        "for index, fruit in enumerate(fruits):\n",
        "    print(f\"Index {index}: {fruit}\")\n",
        "\n",
        "```\n",
        "\n",
        "5. **Indexing in Complex Data Structures:** When using tuples as elements in more complex data structures like lists or sets, ensuring each tuple is an immutable and hashable element.**eg.** Using tuples in a set to represent unique 2D points.\n",
        "\n",
        "```\n",
        "points = {(1, 2), (3, 4), (5, 6)}\n",
        "\n",
        "```\n"
      ],
      "metadata": {
        "id": "0XdcPcCvYbCu"
      }
    },
    {
      "cell_type": "markdown",
      "source": [
        "**Use cases of Sets**\n",
        "\n",
        "Sets in Python are particularly useful for scenarios where you need to manage unique collections of items and perform mathematical set operations efficiently.\n",
        "\n",
        "1. **Removing Duplicates:** Eliminating duplicate values from a list or other iterable to ensure all items are unique.**eg.** Shoping list, we do not want to repeat an item\n",
        "\n",
        "```\n",
        "shoping_list={\"Bread\", \"Eggs\", \"Spices\", \"Oil\", \"Coffee\"}\n",
        "```\n",
        "\n",
        "2. **Fast Lookup:** Sets are fast while executing so can be used to quickly manage and look up large collections.\n",
        "\n",
        "```\n",
        "large_set = set(range(1000000))  # A large set of numbers\n",
        "if 500000 in large_set:\n",
        "    print(\"500000 is in the set.\")\n",
        "\n",
        "```\n",
        "3. **Common Elements:** Sets are similar to hashing so finding elements common to multiple sets is fast."
      ],
      "metadata": {
        "id": "xXuuGBm2R3xS"
      }
    },
    {
      "cell_type": "code",
      "source": [
        "set1 = {1, 2, 3, 4}\n",
        "set2 = {2, 3, 5, 6}\n",
        "set3 = {3, 4, 7, 8}\n",
        "common_elements = set1 & set2 & set3\n",
        "print(common_elements)\n"
      ],
      "metadata": {
        "colab": {
          "base_uri": "https://localhost:8080/"
        },
        "id": "d4YtOE9JUE6z",
        "outputId": "632f1c54-1c3b-48bb-84be-e904bbe6977e"
      },
      "execution_count": null,
      "outputs": [
        {
          "output_type": "stream",
          "name": "stdout",
          "text": [
            "{3}\n"
          ]
        }
      ]
    },
    {
      "cell_type": "markdown",
      "source": [
        "4. **Set Operations:** Perform mathematical set operations like union, intersection, and difference.Thus it makes it easy to find common element, uncommon element in the set fast."
      ],
      "metadata": {
        "id": "ZkydU6AcUUJD"
      }
    },
    {
      "cell_type": "code",
      "source": [
        "set1 = {1, 2, 3, 4}\n",
        "set2 = {2, 3, 5, 6}\n",
        "set3 = {3, 4, 7, 8}\n",
        "\n",
        "print(\"Union:\", set1|set2|set3)\n",
        "print(\"Intersection:\", set1.intersection(set2,set3))\n",
        "print(\"Difference:\", set1-set2-set3)"
      ],
      "metadata": {
        "colab": {
          "base_uri": "https://localhost:8080/"
        },
        "id": "z9lFUQVtUbRj",
        "outputId": "7d9fd862-da69-4233-dd3f-05b82f302b12"
      },
      "execution_count": null,
      "outputs": [
        {
          "output_type": "stream",
          "name": "stdout",
          "text": [
            "Union: {1, 2, 3, 4, 5, 6, 7, 8}\n",
            "Intersection: {3}\n",
            "Difference: {1}\n"
          ]
        }
      ]
    },
    {
      "cell_type": "markdown",
      "source": [
        "**Q7.Describe how to add, modify, and delete items in a dictionary with examples**\n",
        "\n",
        "**Sol.**Dictionaries in Python are mutable data structures that store key-value pairs.\n",
        "\n",
        "*Syntax*\n",
        "\n",
        "```\n",
        "# dict_var={\"Key1\":\"Value1\",\"Key2\":\"Value2\",\"Key3\":\"Value3\"}\n",
        "```\n",
        "\n",
        "We can add, modify, and delete items in a dictionary using various methods and techniques.\n",
        "\n",
        "**Add elements in dictionaries**\n",
        "1. **update() function:**"
      ],
      "metadata": {
        "id": "z_wZhG60Yg3u"
      }
    },
    {
      "cell_type": "code",
      "source": [
        "dict1 = {\"brand\": \"Ford\", \"model\": \"Mustang\", \"year\": 1964}\n",
        "print(\"old:\",dict1)\n",
        "dict1.update({\"color\": \"yellow\"})\n",
        "print(\"Updated:\",dict1)"
      ],
      "metadata": {
        "colab": {
          "base_uri": "https://localhost:8080/"
        },
        "id": "70hzNAdYXEYQ",
        "outputId": "1925920c-ab2f-4504-db4e-64889caeb575"
      },
      "execution_count": null,
      "outputs": [
        {
          "output_type": "stream",
          "name": "stdout",
          "text": [
            "old: {'brand': 'Ford', 'model': 'Mustang', 'year': 1964}\n",
            "Updated: {'brand': 'Ford', 'model': 'Mustang', 'year': 1964, 'color': 'yellow'}\n"
          ]
        }
      ]
    },
    {
      "cell_type": "markdown",
      "source": [
        "**To modify**\n",
        "\n",
        "To modify an item in a dictionary, we update the value associated with an existing key. This is done using the same syntax as for adding items."
      ],
      "metadata": {
        "id": "fy3ft2LOYn0G"
      }
    },
    {
      "cell_type": "code",
      "source": [
        "dict1 = {\"brand\": \"Ford\", \"model\": \"Mustang\", \"year\": 1968}\n",
        "print(\"Old : \",dict1)\n",
        "\n",
        "dict1[\"year\"]= 1964\n",
        "print(\"Updated:\", dict1)\n"
      ],
      "metadata": {
        "colab": {
          "base_uri": "https://localhost:8080/"
        },
        "id": "XtQ_kIdZY6e8",
        "outputId": "8d513654-aecd-4c7a-e339-f87cf7b15a79"
      },
      "execution_count": null,
      "outputs": [
        {
          "output_type": "stream",
          "name": "stdout",
          "text": [
            "Old :  {'brand': 'Ford', 'model': 'Mustang', 'year': 1968}\n",
            "Updated: {'brand': 'Ford', 'model': 'Mustang', 'year': 1964}\n"
          ]
        }
      ]
    },
    {
      "cell_type": "markdown",
      "source": [
        "**To delete**\n",
        "\n",
        "You can delete items from a dictionary using several methods:\n",
        "1. Using **del statement**: It removes the item with the specified key name.\n",
        "2. Using **pop() method**: It removes the item with the specified key name:.\n",
        "3. Using **popitem() method**: Removes the last inserted pair.\n",
        "4. Using **clear() method**: Removes all items from the dictionary."
      ],
      "metadata": {
        "id": "YFyfBNtrZndS"
      }
    },
    {
      "cell_type": "code",
      "source": [
        "#Using del statement:\n",
        "dict1 = {\"brand\": \"Ford\", \"model\": \"Mustang\", \"year\": 1968}\n",
        "print(\"Old : \",dict1)\n",
        "\n",
        "del dict1[\"model\"]                        #deletes key and value of specified key\n",
        "print(\"Updated:\", dict1)\n"
      ],
      "metadata": {
        "colab": {
          "base_uri": "https://localhost:8080/"
        },
        "id": "k0rtgtmNbRO0",
        "outputId": "81fe3285-ef86-4158-c9f9-a301b061e356"
      },
      "execution_count": null,
      "outputs": [
        {
          "output_type": "stream",
          "name": "stdout",
          "text": [
            "Old :  {'brand': 'Ford', 'model': 'Mustang', 'year': 1968}\n",
            "Updated: {'brand': 'Ford', 'year': 1968}\n"
          ]
        }
      ]
    },
    {
      "cell_type": "code",
      "source": [
        "#Using pop function\n",
        "dict1 = {\"brand\": \"Ford\", \"model\": \"Mustang\", \"year\": 1968}\n",
        "print(\"Old : \",dict1)\n",
        "\n",
        "dict1.pop(\"brand\")                                #deletes key and value of specified key\n",
        "print(\"Updated:\", dict1)"
      ],
      "metadata": {
        "colab": {
          "base_uri": "https://localhost:8080/"
        },
        "id": "3y84OJs3cWHr",
        "outputId": "10d6556a-0fbc-4593-d730-e72079ca603b"
      },
      "execution_count": null,
      "outputs": [
        {
          "output_type": "stream",
          "name": "stdout",
          "text": [
            "Old :  {'brand': 'Ford', 'model': 'Mustang', 'year': 1968}\n",
            "Updated: {'model': 'Mustang', 'year': 1968}\n"
          ]
        }
      ]
    },
    {
      "cell_type": "code",
      "source": [
        "#using popitem function.\n",
        "dict1 = {\"brand\": \"Ford\", \"model\": \"Mustang\", \"year\": 1968}\n",
        "print(\"Old : \",dict1)\n",
        "\n",
        "dict1.popitem()                    #removes last key-value pair\n",
        "print(\"Updated:\", dict1)"
      ],
      "metadata": {
        "colab": {
          "base_uri": "https://localhost:8080/"
        },
        "id": "Berr3tUkcnh0",
        "outputId": "18687554-ca5e-4f70-b650-8648ddbd7eb6"
      },
      "execution_count": null,
      "outputs": [
        {
          "output_type": "stream",
          "name": "stdout",
          "text": [
            "Old :  {'brand': 'Ford', 'model': 'Mustang', 'year': 1968}\n",
            "Updated: {'brand': 'Ford', 'model': 'Mustang'}\n"
          ]
        }
      ]
    },
    {
      "cell_type": "code",
      "source": [
        "#Using clear function\n",
        "\n",
        "dict1 = {\"brand\": \"Ford\", \"model\": \"Mustang\", \"year\": 1968}\n",
        "print(\"Old : \",dict1)\n",
        "\n",
        "dict1.clear()               #removes all elements\n",
        "print(dict1)"
      ],
      "metadata": {
        "colab": {
          "base_uri": "https://localhost:8080/"
        },
        "id": "_2A8Mndxc_tz",
        "outputId": "396ffd8d-b9c4-4cc0-e717-3b30213ceee0"
      },
      "execution_count": null,
      "outputs": [
        {
          "output_type": "stream",
          "name": "stdout",
          "text": [
            "Old :  {'brand': 'Ford', 'model': 'Mustang', 'year': 1968}\n",
            "{}\n"
          ]
        }
      ]
    },
    {
      "cell_type": "markdown",
      "source": [
        "**Q8. Discuss the importance of dictionary keys being immutable and provide examples**\n",
        "**Sol.** A key determines where it is stored in memory. If a key is mutable and could be changed, its hash value might change as well. This would lead to inconsistencies and potential errors when trying to access or modify the dictionary.\n",
        "\n",
        "The datatypes that can be used to represent keys are:\n",
        "\n",
        "1. *String*\n",
        "2. *Integer or float or complex numbers*\n",
        "2. *tuple*\n",
        "3. *frozen set*\n",
        "\n",
        "They are used because of their **immutability** property.\n",
        "\n",
        "If a mutable data type or data structure is used to represent key then Python will give error.\n"
      ],
      "metadata": {
        "id": "Aowd5cqEYmwX"
      }
    },
    {
      "cell_type": "code",
      "source": [
        "#Example of valid keys => String\n",
        "\n",
        "dict_1= {\"Company\": \"Ford\",\"Model\": \"Mustang\", \"Engine\": \"4951 cc\", \"Power and Torque\":\"396 bhp & 515 Nm\",\"DriveTrain\":\"RWD\",\"Price\":8000000 }\n",
        "print(\"String Key:\",dict_1[\"Company\"])"
      ],
      "metadata": {
        "colab": {
          "base_uri": "https://localhost:8080/"
        },
        "id": "26m7lWlyRDt6",
        "outputId": "79212e7f-888a-4ac4-e810-473133874bca"
      },
      "execution_count": 21,
      "outputs": [
        {
          "output_type": "stream",
          "name": "stdout",
          "text": [
            "String Key: Ford\n",
            "\n"
          ]
        }
      ]
    },
    {
      "cell_type": "code",
      "source": [
        "#Example of valid keys => Numbers\n",
        "\n",
        "dict_2= {1: \"Ford\",2: \"Mustang\", 3.5: \"4951 cc\", 4+5j :\"396 bhp & 515 Nm\", 5:\"RWD\", 6:8000000 }\n",
        "print(\"Integer key:\",dict_2[1])                                  #integer as key\n",
        "print(\"Float key:\",dict_2[3.5])                                  #float as key\n",
        "print(\"Complex number key:\",dict_2[4+5j])                        #complex number as key"
      ],
      "metadata": {
        "colab": {
          "base_uri": "https://localhost:8080/"
        },
        "id": "vuhowNrvU8xu",
        "outputId": "e7723513-927c-485e-8d52-b0a5fc5bba0f"
      },
      "execution_count": 22,
      "outputs": [
        {
          "output_type": "stream",
          "name": "stdout",
          "text": [
            "Integer key: Ford\n",
            "Float key: 4951 cc\n",
            "Complex number key: 396 bhp & 515 Nm\n"
          ]
        }
      ]
    },
    {
      "cell_type": "code",
      "source": [
        "#Example of valid keys => Tuples\n",
        "\n",
        "dict_3= {(1,\"Company\"): \"Ford\",(2,\"Model\"): \"Mustang\", (3,\"Engine\"): \"4951 cc\", (4,\"Power and Torque\"):\"396 bhp & 515 Nm\"}\n",
        "print(dict_3[(3,\"Engine\")])"
      ],
      "metadata": {
        "colab": {
          "base_uri": "https://localhost:8080/"
        },
        "id": "2UZGY0TIVXCL",
        "outputId": "6e66f8f2-dcd5-4dc1-9deb-0235c2f5171f"
      },
      "execution_count": 23,
      "outputs": [
        {
          "output_type": "stream",
          "name": "stdout",
          "text": [
            "4951 cc\n"
          ]
        }
      ]
    },
    {
      "cell_type": "code",
      "source": [
        "#Example of valid keys => Frozenset\n",
        "\n",
        "dict_4= { frozenset([1,\"Company\"]): \"Ford\",frozenset([2,\"Model\"]): \"Mustang\", \"Engine\": \"4951 cc\", \"Power and Torque\":\"396 bhp & 515 Nm\"}\n",
        "\n",
        "print(dict_4[frozenset([1,\"Company\"])])\n"
      ],
      "metadata": {
        "colab": {
          "base_uri": "https://localhost:8080/"
        },
        "id": "gMIt-GwKWCyy",
        "outputId": "0d4e578a-cf15-4982-859d-ed87443b61b7"
      },
      "execution_count": 26,
      "outputs": [
        {
          "output_type": "stream",
          "name": "stdout",
          "text": [
            "Ford\n"
          ]
        }
      ]
    },
    {
      "cell_type": "markdown",
      "source": [
        "As discussed earlier, mutable data types and data structures **cannot** be keys.\n",
        "Some examples of mutable data structures are:\n",
        "1. *List*\n",
        "2. *Set*\n",
        "3. *Dictionary*"
      ],
      "metadata": {
        "id": "oh2crJKjW9WE"
      }
    },
    {
      "cell_type": "code",
      "source": [
        "#Example of invalid keys => List\n",
        "\n",
        "my_dict = {[1, 2]: \"Error_1\"}                        # This will raise a Error\n"
      ],
      "metadata": {
        "colab": {
          "base_uri": "https://localhost:8080/",
          "height": 176
        },
        "id": "vJ0-kFlZXqBO",
        "outputId": "89118833-e49d-4f52-90c0-77c50a2a1bca"
      },
      "execution_count": 30,
      "outputs": [
        {
          "output_type": "error",
          "ename": "TypeError",
          "evalue": "unhashable type: 'list'",
          "traceback": [
            "\u001b[0;31m---------------------------------------------------------------------------\u001b[0m",
            "\u001b[0;31mTypeError\u001b[0m                                 Traceback (most recent call last)",
            "\u001b[0;32m<ipython-input-30-08f0c6d54dc3>\u001b[0m in \u001b[0;36m<cell line: 3>\u001b[0;34m()\u001b[0m\n\u001b[1;32m      1\u001b[0m \u001b[0;31m#Example of invalid keys => List\u001b[0m\u001b[0;34m\u001b[0m\u001b[0;34m\u001b[0m\u001b[0m\n\u001b[1;32m      2\u001b[0m \u001b[0;34m\u001b[0m\u001b[0m\n\u001b[0;32m----> 3\u001b[0;31m \u001b[0mmy_dict\u001b[0m \u001b[0;34m=\u001b[0m \u001b[0;34m{\u001b[0m\u001b[0;34m[\u001b[0m\u001b[0;36m1\u001b[0m\u001b[0;34m,\u001b[0m \u001b[0;36m2\u001b[0m\u001b[0;34m]\u001b[0m\u001b[0;34m:\u001b[0m \u001b[0;34m\"Error_1\"\u001b[0m\u001b[0;34m}\u001b[0m                        \u001b[0;31m# This will raise a Error\u001b[0m\u001b[0;34m\u001b[0m\u001b[0;34m\u001b[0m\u001b[0m\n\u001b[0m",
            "\u001b[0;31mTypeError\u001b[0m: unhashable type: 'list'"
          ]
        }
      ]
    },
    {
      "cell_type": "code",
      "source": [
        "#Example of invalid keys => Set\n",
        "\n",
        "my_dict = {{1, 2}: \"Error_2\"}             # This will raise a Error"
      ],
      "metadata": {
        "colab": {
          "base_uri": "https://localhost:8080/",
          "height": 176
        },
        "id": "7h_oKdM8X_iC",
        "outputId": "e62a7667-f104-4bdf-c9b3-64f01dca617a"
      },
      "execution_count": 29,
      "outputs": [
        {
          "output_type": "error",
          "ename": "TypeError",
          "evalue": "unhashable type: 'set'",
          "traceback": [
            "\u001b[0;31m---------------------------------------------------------------------------\u001b[0m",
            "\u001b[0;31mTypeError\u001b[0m                                 Traceback (most recent call last)",
            "\u001b[0;32m<ipython-input-29-0f125cfcf491>\u001b[0m in \u001b[0;36m<cell line: 3>\u001b[0;34m()\u001b[0m\n\u001b[1;32m      1\u001b[0m \u001b[0;31m#Example of invalid keys => Set\u001b[0m\u001b[0;34m\u001b[0m\u001b[0;34m\u001b[0m\u001b[0m\n\u001b[1;32m      2\u001b[0m \u001b[0;34m\u001b[0m\u001b[0m\n\u001b[0;32m----> 3\u001b[0;31m \u001b[0mmy_dict\u001b[0m \u001b[0;34m=\u001b[0m \u001b[0;34m{\u001b[0m\u001b[0;34m{\u001b[0m\u001b[0;36m1\u001b[0m\u001b[0;34m,\u001b[0m \u001b[0;36m2\u001b[0m\u001b[0;34m}\u001b[0m\u001b[0;34m:\u001b[0m \u001b[0;34m\"Error_2\"\u001b[0m\u001b[0;34m}\u001b[0m             \u001b[0;31m# This will raise a Error\u001b[0m\u001b[0;34m\u001b[0m\u001b[0;34m\u001b[0m\u001b[0m\n\u001b[0m",
            "\u001b[0;31mTypeError\u001b[0m: unhashable type: 'set'"
          ]
        }
      ]
    },
    {
      "cell_type": "code",
      "source": [
        "#Example of invalid keys => other dictionary\n",
        "\n",
        "my_dict2={{1: \"a\", 2: \"b\"}: \"Error\"}               #Again error"
      ],
      "metadata": {
        "colab": {
          "base_uri": "https://localhost:8080/",
          "height": 176
        },
        "id": "H57HkB12YXKw",
        "outputId": "0265329a-6199-4ae0-c096-813417243c62"
      },
      "execution_count": 31,
      "outputs": [
        {
          "output_type": "error",
          "ename": "TypeError",
          "evalue": "unhashable type: 'dict'",
          "traceback": [
            "\u001b[0;31m---------------------------------------------------------------------------\u001b[0m",
            "\u001b[0;31mTypeError\u001b[0m                                 Traceback (most recent call last)",
            "\u001b[0;32m<ipython-input-31-c4b0c0fc6649>\u001b[0m in \u001b[0;36m<cell line: 3>\u001b[0;34m()\u001b[0m\n\u001b[1;32m      1\u001b[0m \u001b[0;31m#Example of invalid keys => other dictionary\u001b[0m\u001b[0;34m\u001b[0m\u001b[0;34m\u001b[0m\u001b[0m\n\u001b[1;32m      2\u001b[0m \u001b[0;34m\u001b[0m\u001b[0m\n\u001b[0;32m----> 3\u001b[0;31m \u001b[0mmy_dict2\u001b[0m\u001b[0;34m=\u001b[0m\u001b[0;34m{\u001b[0m\u001b[0;34m{\u001b[0m\u001b[0;36m1\u001b[0m\u001b[0;34m:\u001b[0m \u001b[0;34m\"a\"\u001b[0m\u001b[0;34m,\u001b[0m \u001b[0;36m2\u001b[0m\u001b[0;34m:\u001b[0m \u001b[0;34m\"b\"\u001b[0m\u001b[0;34m}\u001b[0m\u001b[0;34m:\u001b[0m \u001b[0;34m\"Error\"\u001b[0m\u001b[0;34m}\u001b[0m               \u001b[0;31m#Again error\u001b[0m\u001b[0;34m\u001b[0m\u001b[0;34m\u001b[0m\u001b[0m\n\u001b[0m",
            "\u001b[0;31mTypeError\u001b[0m: unhashable type: 'dict'"
          ]
        }
      ]
    }
  ]
}